{
 "cells": [
  {
   "cell_type": "markdown",
   "metadata": {},
   "source": [
    "# Question 1"
   ]
  },
  {
   "cell_type": "raw",
   "metadata": {},
   "source": [
    "Create a dataframe with 10rows on random numbers and 4 columns,\n",
    "(columns labelled as a,b,c,d) and plot a bar chart."
   ]
  },
  {
   "cell_type": "code",
   "execution_count": 1,
   "metadata": {},
   "outputs": [],
   "source": [
    "import matplotlib.pyplot as plt\n",
    "import numpy as np\n",
    "import pandas as pd\n",
    "%matplotlib inline\n",
    "import seaborn as sns\n",
    "from numpy.random import randn, randint, uniform, sample"
   ]
  },
  {
   "cell_type": "code",
   "execution_count": 2,
   "metadata": {},
   "outputs": [
    {
     "data": {
      "text/html": [
       "<div>\n",
       "<style scoped>\n",
       "    .dataframe tbody tr th:only-of-type {\n",
       "        vertical-align: middle;\n",
       "    }\n",
       "\n",
       "    .dataframe tbody tr th {\n",
       "        vertical-align: top;\n",
       "    }\n",
       "\n",
       "    .dataframe thead th {\n",
       "        text-align: right;\n",
       "    }\n",
       "</style>\n",
       "<table border=\"1\" class=\"dataframe\">\n",
       "  <thead>\n",
       "    <tr style=\"text-align: right;\">\n",
       "      <th></th>\n",
       "      <th>a</th>\n",
       "      <th>b</th>\n",
       "      <th>c</th>\n",
       "      <th>d</th>\n",
       "    </tr>\n",
       "  </thead>\n",
       "  <tbody>\n",
       "    <tr>\n",
       "      <th>0</th>\n",
       "      <td>1.082159</td>\n",
       "      <td>0.703842</td>\n",
       "      <td>0.548828</td>\n",
       "      <td>-1.186728</td>\n",
       "    </tr>\n",
       "    <tr>\n",
       "      <th>1</th>\n",
       "      <td>2.236994</td>\n",
       "      <td>1.042062</td>\n",
       "      <td>-0.446494</td>\n",
       "      <td>0.643863</td>\n",
       "    </tr>\n",
       "    <tr>\n",
       "      <th>2</th>\n",
       "      <td>0.520576</td>\n",
       "      <td>0.754364</td>\n",
       "      <td>1.704546</td>\n",
       "      <td>-0.213120</td>\n",
       "    </tr>\n",
       "    <tr>\n",
       "      <th>3</th>\n",
       "      <td>-0.053591</td>\n",
       "      <td>1.031692</td>\n",
       "      <td>-0.271450</td>\n",
       "      <td>0.409199</td>\n",
       "    </tr>\n",
       "    <tr>\n",
       "      <th>4</th>\n",
       "      <td>0.814640</td>\n",
       "      <td>-1.223730</td>\n",
       "      <td>1.416820</td>\n",
       "      <td>-3.249050</td>\n",
       "    </tr>\n",
       "    <tr>\n",
       "      <th>5</th>\n",
       "      <td>-0.635208</td>\n",
       "      <td>0.694367</td>\n",
       "      <td>-0.813228</td>\n",
       "      <td>-0.543483</td>\n",
       "    </tr>\n",
       "    <tr>\n",
       "      <th>6</th>\n",
       "      <td>0.083352</td>\n",
       "      <td>-2.063163</td>\n",
       "      <td>0.143983</td>\n",
       "      <td>1.218674</td>\n",
       "    </tr>\n",
       "    <tr>\n",
       "      <th>7</th>\n",
       "      <td>-0.874225</td>\n",
       "      <td>0.725311</td>\n",
       "      <td>-0.004232</td>\n",
       "      <td>-0.132567</td>\n",
       "    </tr>\n",
       "    <tr>\n",
       "      <th>8</th>\n",
       "      <td>-0.762584</td>\n",
       "      <td>-0.885159</td>\n",
       "      <td>0.209538</td>\n",
       "      <td>-1.132593</td>\n",
       "    </tr>\n",
       "    <tr>\n",
       "      <th>9</th>\n",
       "      <td>-0.480651</td>\n",
       "      <td>0.865296</td>\n",
       "      <td>0.146720</td>\n",
       "      <td>-1.245710</td>\n",
       "    </tr>\n",
       "  </tbody>\n",
       "</table>\n",
       "</div>"
      ],
      "text/plain": [
       "          a         b         c         d\n",
       "0  1.082159  0.703842  0.548828 -1.186728\n",
       "1  2.236994  1.042062 -0.446494  0.643863\n",
       "2  0.520576  0.754364  1.704546 -0.213120\n",
       "3 -0.053591  1.031692 -0.271450  0.409199\n",
       "4  0.814640 -1.223730  1.416820 -3.249050\n",
       "5 -0.635208  0.694367 -0.813228 -0.543483\n",
       "6  0.083352 -2.063163  0.143983  1.218674\n",
       "7 -0.874225  0.725311 -0.004232 -0.132567\n",
       "8 -0.762584 -0.885159  0.209538 -1.132593\n",
       "9 -0.480651  0.865296  0.146720 -1.245710"
      ]
     },
     "execution_count": 2,
     "metadata": {},
     "output_type": "execute_result"
    }
   ],
   "source": [
    "df = pd.DataFrame(randn(10,4),columns=['a','b','c','d'])\n",
    "df"
   ]
  },
  {
   "cell_type": "code",
   "execution_count": 3,
   "metadata": {},
   "outputs": [
    {
     "data": {
      "text/plain": [
       "<matplotlib.axes._subplots.AxesSubplot at 0x2508253fbc8>"
      ]
     },
     "execution_count": 3,
     "metadata": {},
     "output_type": "execute_result"
    },
    {
     "data": {
      "image/png": "[encoded data removed]",
      "text/plain": [
       "<Figure size 720x720 with 1 Axes>"
      ]
     },
     "metadata": {
      "needs_background": "light"
     },
     "output_type": "display_data"
    }
   ],
   "source": [
    "df.plot(kind='bar',title='Bar Chart',figsize=(10,10),grid=True,legend = True)"
   ]
  }
 ],
 "metadata": {
  "kernelspec": {
   "display_name": "Python 3",
   "language": "python",
   "name": "python3"
  },
  "language_info": {
   "codemirror_mode": {
    "name": "ipython",
    "version": 3
   },
   "file_extension": ".py",
   "mimetype": "text/x-python",
   "name": "python",
   "nbconvert_exporter": "python",
   "pygments_lexer": "ipython3",
   "version": "3.7.6"
  }
 },
 "nbformat": 4,
 "nbformat_minor": 4
}
